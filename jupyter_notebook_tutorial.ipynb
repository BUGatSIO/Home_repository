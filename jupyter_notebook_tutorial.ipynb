{
 "cells": [
  {
   "cell_type": "markdown",
   "metadata": {},
   "source": [
    "Multiple kernals\n",
    "\n",
    "\n",
    "\n",
    "You can write using \n",
    "\n",
    "- [markdown syntax](http://daringfireball.net/projects/markdown/syntax#p)\n",
    "- HTML\n",
    "\n",
    "Add images (screenshots anyone?!)"
   ]
  }
 ],
 "metadata": {
  "kernelspec": {
   "display_name": "Bash",
   "language": "bash",
   "name": "bash"
  },
  "language_info": {
   "codemirror_mode": "shell",
   "file_extension": ".sh",
   "mimetype": "text/x-sh",
   "name": "bash"
  }
 },
 "nbformat": 4,
 "nbformat_minor": 0
}

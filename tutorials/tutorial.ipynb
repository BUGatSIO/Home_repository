{
 "cells": [
  {
   "cell_type": "markdown",
   "metadata": {},
   "source": [
    "# How to write a tutorial for SIO-BUG in Jupyter Notebook"
   ]
  },
  {
   "cell_type": "markdown",
   "metadata": {},
   "source": [
    "**Author:** Raffaela Abbriano\n",
    "\n",
    "**Date:** March 4, 2016\n",
    "\n",
    "Thank you for writing a tutorial for SIO-BUG! The purpose of this document is to familiarize you with the basics of writing in Markdown using Jupyter Notebook and to provide a general outline for SIO-BUG tutorials.\n",
    "Disclaimer: this tutorial assumes that you have already installed Jupyter Notebook on your computer."
   ]
  },
  {
   "cell_type": "markdown",
   "metadata": {},
   "source": [
    "## Opening a Jupyter Notebook document"
   ]
  },
  {
   "cell_type": "markdown",
   "metadata": {},
   "source": [
    "Open a terminal window. To launch Jupyter Notebook, type 'jupyter notebook' at the command line:"
   ]
  },
  {
   "cell_type": "code",
   "execution_count": null,
   "metadata": {
    "collapsed": true
   },
   "outputs": [],
   "source": [
    "jupyter notebook"
   ]
  },
  {
   "cell_type": "markdown",
   "metadata": {},
   "source": [
    "This will launch a new web brower window that displays the Notebook Dashboard. You can use the Notebook Dashboard to navigate the folders on your computer. Choose a directory where you want to create your tutorial. \n",
    "\n",
    "If you are working on a remote server where you cannot access a GUI interface, but you want to do work in Jupyter Notebook, you can follow the instructions [here.](https://github.com/SIO-BUG/BUG-Resources/blob/master/tutorials/running-jupyter-notebook-remotely.rst)\n",
    "\n",
    "To create a new notebook, click the \"New\" button on the right hand side of the Dashboard. Choose either Python 2 or R depending on the language you would like to use for your tutorial. This will open up a new notebook in your browser. In the box at the top of the page, give your notebook a name."
   ]
  },
  {
   "cell_type": "markdown",
   "metadata": {},
   "source": [
    "## Different cell types and writing in Markdown"
   ]
  },
  {
   "cell_type": "markdown",
   "metadata": {
    "collapsed": true
   },
   "source": [
    "By default, a new notebook will have one cell. In the toolbar, you can switch the type of cell between 'Code' (which reads either Python or R code depending on the type of notebook you chose), 'Markdown' (into which you can enter text with Markdown formatting), and 'Header' (into which you can enter section headers in Markdown formatting). The toolbar can also be used to insert new cells and change the order of existing cells (by using the arrow buttons). \n",
    "\n",
    "For a tutorial on the basics of writing in Markdown, [click here.](http://markdowntutorial.com)\n",
    "\n",
    "For a Markdown cheatsheet, [click here.](https://github.com/adam-p/markdown-here/wiki/Markdown-Cheatsheet)"
   ]
  },
  {
   "cell_type": "markdown",
   "metadata": {},
   "source": [
    "## Elements of a SIO-BUG tutorial"
   ]
  },
  {
   "cell_type": "markdown",
   "metadata": {},
   "source": [
    "### The heading\n",
    "Create a heading for the tutorial. In a heading cell, use # to format your heading:"
   ]
  },
  {
   "cell_type": "code",
   "execution_count": null,
   "metadata": {
    "collapsed": true
   },
   "outputs": [],
   "source": [
    "# Heading Text"
   ]
  },
  {
   "cell_type": "markdown",
   "metadata": {},
   "source": [
    "Then, run the cell:"
   ]
  },
  {
   "cell_type": "markdown",
   "metadata": {},
   "source": [
    "# Heading Text"
   ]
  },
  {
   "cell_type": "markdown",
   "metadata": {},
   "source": [
    "### Author and date\n",
    "Add author and date information. It's useful to know the last time the document was edited and by whom. In a markdown cell, use the following format:"
   ]
  },
  {
   "cell_type": "code",
   "execution_count": null,
   "metadata": {
    "collapsed": true
   },
   "outputs": [],
   "source": [
    "**Author:** Your Name\n",
    "\n",
    "**Date:** Month day, year"
   ]
  },
  {
   "cell_type": "markdown",
   "metadata": {},
   "source": [
    "**Author:** Your Name\n",
    "\n",
    "**Date:** Month day, year"
   ]
  },
  {
   "cell_type": "markdown",
   "metadata": {},
   "source": [
    "### Brief Description\n",
    "* Provide a description of the tool you will describe in the tutorial. Briefly, what does it do? Why would someone want to use this tool? "
   ]
  },
  {
   "cell_type": "markdown",
   "metadata": {},
   "source": [
    "### Additional Information \n",
    "* If possible, link to outside resources that describe the tool in more detail, including informative websites, manuals, or primary literature. Links can be added to text in Markdown by using the following format (using google as an example):"
   ]
  },
  {
   "cell_type": "code",
   "execution_count": null,
   "metadata": {
    "collapsed": true
   },
   "outputs": [],
   "source": [
    "[my google link](https://www.google.com)"
   ]
  },
  {
   "cell_type": "markdown",
   "metadata": {},
   "source": [
    "[my google link](https://www.google.com)"
   ]
  },
  {
   "cell_type": "markdown",
   "metadata": {},
   "source": [
    "### Setup\n",
    "* Provide information on how to download, install, and run the tool. If necessary, include information on how add the tool directory to $PATH. Also include directions on how to install any dependencies and demonstrate how to access help information. A reader should be able to cut and paste your code into their terminal to set up the tool on their computer. "
   ]
  },
  {
   "cell_type": "markdown",
   "metadata": {},
   "source": [
    "### Execution\n",
    "* Use alternating text and code blocks to walk the reader through each step of the tutorial. If necessary, create or provide a small dataset to demonstrate how the tool works. Add useful notes to your code where possible. Make sure to add any insights from experience that may not be clear in the existing documentation. "
   ]
  },
  {
   "cell_type": "markdown",
   "metadata": {},
   "source": [
    "_Example: How to subset a list in python_"
   ]
  },
  {
   "cell_type": "code",
   "execution_count": 25,
   "metadata": {
    "collapsed": false
   },
   "outputs": [
    {
     "data": {
      "text/plain": [
       "'Tessa'"
      ]
     },
     "execution_count": 25,
     "metadata": {},
     "output_type": "execute_result"
    }
   ],
   "source": [
    "x = [\"Raffie\", \"Tessa\", \"Jess\"] #create a list of three strings called x\n",
    "x[1] #use brackets to access second element of list x"
   ]
  },
  {
   "cell_type": "markdown",
   "metadata": {},
   "source": [
    "### Results \n",
    "* Provide some description or example of what the results/output might look like and how to interpret them. Explain any unique aspects of output files that may be confusing."
   ]
  },
  {
   "cell_type": "markdown",
   "metadata": {},
   "source": [
    "### Downstream analyses\n",
    "* If applicable, discuss options for downtstream analysis of the data. What is the next step (if any) in a typically bioinformatic pipeline?"
   ]
  },
  {
   "cell_type": "markdown",
   "metadata": {},
   "source": [
    "## Submitting completed tutorial to GitHub"
   ]
  },
  {
   "cell_type": "markdown",
   "metadata": {},
   "source": [
    "Once you have completed your tutorial, save your Jupyter Notebook (Jupyter Notebooks will have a .ipynb extension). Sign into your GitHub account and navigate to your forked BUG-Resources repository. Navigate to the tutorials directory and choose 'Upload file'. Drag and drop your .ipynb file into the directory and commit changes. Finally, initiate a pull request to have your changes merged to the master branch."
   ]
  }
 ],
 "metadata": {
  "kernelspec": {
   "display_name": "Python 2",
   "language": "python",
   "name": "python2"
  },
  "language_info": {
   "codemirror_mode": {
    "name": "ipython",
    "version": 2
   },
   "file_extension": ".py",
   "mimetype": "text/x-python",
   "name": "python",
   "nbconvert_exporter": "python",
   "pygments_lexer": "ipython2",
   "version": "2.7.11"
  }
 },
 "nbformat": 4,
 "nbformat_minor": 0
}

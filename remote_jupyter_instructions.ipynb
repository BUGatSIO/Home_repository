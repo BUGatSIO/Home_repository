{
 "cells": [
  {
   "cell_type": "markdown",
   "metadata": {},
   "source": [
    "## Instructions for opening a remote jupyter notebook \n",
    "12/27/15 started Jessica Blanton \n",
    " \n",
    "A remote notebook is used when the data or programs of interest are housed on a different computer, \n",
    "and you would like to work on that computer- remotely.\n",
    "\n",
    "    local = computer you are working on\n",
    "    remote = computer where the programs/data of interest are. \n",
    "\n",
    "---\n",
    "\n",
    "**1. Open a local terminal window and ssh into the remote computer** \n",
    "\n",
    "**2. Open an ipython notebook on the remote computer without launching a browser:** \n",
    " \n",
    "> ipython notebook --no-browser\n",
    " \n",
    "or \n",
    " \n",
    "> /home/jess/Documents/anaconda3/bin/ipython notebook --no-browser\n",
    "\n",
    "**3. Note which port the notebook is running on, often is: **\n",
    " \n",
    "> http://localhost:8888/ \n",
    " \n",
    "--- \n",
    "**4. Open a second local teminal window**\n",
    " \n",
    "**5. Open an SSH tunnel to the ipython port using a different port (e.g. the portnumber for the ipython notebook +2)**\n",
    " \n",
    ">ssh jess@scoter.ucsd.edu -L8890:localhost:8888\n",
    "\n",
    " \n",
    "**6. The notebook can now be opened locally by opening http://localhost:8890/ in a local browser window.** \n",
    " \n",
    "---- \n",
    "*More info about tunnelling and security can be found at:*\n",
    "\n",
    "http://www.enterprisenetworkingplanet.com/netsp/article.php/3624566/Networking-101-Understanding-Tunneling.htm "
   ]
  }
 ],
 "metadata": {
  "kernelspec": {
   "display_name": "Bash",
   "language": "bash",
   "name": "bash"
  },
  "language_info": {
   "codemirror_mode": "shell",
   "file_extension": ".sh",
   "mimetype": "text/x-sh",
   "name": "bash"
  }
 },
 "nbformat": 4,
 "nbformat_minor": 0
}
